{
 "cells": [
  {
   "cell_type": "code",
   "execution_count": 2,
   "id": "7a09daf0",
   "metadata": {},
   "outputs": [],
   "source": [
    "import numpy as np\n",
    "import pandas as pd\n",
    "import os\n",
    "from keras.models import Sequential\n",
    "from keras.layers import Dense"
   ]
  },
  {
   "cell_type": "code",
   "execution_count": 3,
   "id": "48630778",
   "metadata": {},
   "outputs": [],
   "source": [
    "titanic_train = pd.read_csv('train.csv')\n",
    "titanic_test = pd.read_csv('test.csv')"
   ]
  },
  {
   "cell_type": "code",
   "execution_count": 4,
   "id": "89570a1a",
   "metadata": {},
   "outputs": [],
   "source": [
    "features = [\"Pclass\", \"Sex\", \"SibSp\", \"Parch\",\"Age\", \"Embarked\"]\n",
    "\n",
    "titanic_train.Age = titanic_train.Age.fillna(titanic_train.Age.median())\n",
    "titanic_test.Age = titanic_test.Age.fillna(titanic_test.Age.median())\n",
    "\n",
    "X = pd.get_dummies(titanic_train[features])\n",
    "X_test = pd.get_dummies(titanic_test[features])\n",
    "y = titanic_train[\"Survived\"]\n"
   ]
  },
  {
   "cell_type": "code",
   "execution_count": 5,
   "id": "97d7798d",
   "metadata": {},
   "outputs": [],
   "source": [
    "from sklearn.preprocessing import StandardScaler\n",
    "scaler=StandardScaler()\n",
    "scaler.fit(X)\n",
    "\n",
    "X_train_scaled = scaler.transform(X)\n",
    "X_test_scaled = scaler.transform(X_test)\n"
   ]
  },
  {
   "cell_type": "code",
   "execution_count": 8,
   "id": "fd92e0b1",
   "metadata": {},
   "outputs": [
    {
     "name": "stdout",
     "output_type": "stream",
     "text": [
      "Model: \"sequential_1\"\n",
      "_________________________________________________________________\n",
      "Layer (type)                 Output Shape              Param #   \n",
      "=================================================================\n",
      "dense_2 (Dense)              (None, 64)                640       \n",
      "_________________________________________________________________\n",
      "dense_3 (Dense)              (None, 1)                 65        \n",
      "=================================================================\n",
      "Total params: 705\n",
      "Trainable params: 705\n",
      "Non-trainable params: 0\n",
      "_________________________________________________________________\n"
     ]
    }
   ],
   "source": [
    "model = Sequential()\n",
    "model.add(Dense(64, input_dim=9, activation='relu'))\n",
    "#model.add(Dense(32, activation='relu'))\n",
    "model.add(Dense(1, activation='sigmoid'))\n",
    "\n",
    "model.compile(loss='binary_crossentropy', optimizer='adam', metrics=['accuracy'])\n",
    "model.summary()"
   ]
  },
  {
   "cell_type": "code",
   "execution_count": 11,
   "id": "ec258b99",
   "metadata": {},
   "outputs": [
    {
     "name": "stdout",
     "output_type": "stream",
     "text": [
      "Epoch 1/30\n",
      "23/23 [==============================] - 0s 3ms/step - loss: 0.4146 - accuracy: 0.8216 - val_loss: 0.3492 - val_accuracy: 0.8547\n",
      "Epoch 2/30\n",
      "23/23 [==============================] - 0s 3ms/step - loss: 0.4146 - accuracy: 0.8202 - val_loss: 0.3508 - val_accuracy: 0.8603\n",
      "Epoch 3/30\n",
      "23/23 [==============================] - 0s 3ms/step - loss: 0.4163 - accuracy: 0.8188 - val_loss: 0.3468 - val_accuracy: 0.8547\n",
      "Epoch 4/30\n",
      "23/23 [==============================] - 0s 3ms/step - loss: 0.4164 - accuracy: 0.8272 - val_loss: 0.3478 - val_accuracy: 0.8547\n",
      "Epoch 5/30\n",
      "23/23 [==============================] - 0s 2ms/step - loss: 0.4147 - accuracy: 0.8258 - val_loss: 0.3467 - val_accuracy: 0.8603\n",
      "Epoch 6/30\n",
      "23/23 [==============================] - 0s 2ms/step - loss: 0.4132 - accuracy: 0.8202 - val_loss: 0.3472 - val_accuracy: 0.8547\n",
      "Epoch 7/30\n",
      "23/23 [==============================] - 0s 3ms/step - loss: 0.4135 - accuracy: 0.8258 - val_loss: 0.3456 - val_accuracy: 0.8547\n",
      "Epoch 8/30\n",
      "23/23 [==============================] - 0s 2ms/step - loss: 0.4132 - accuracy: 0.8258 - val_loss: 0.3430 - val_accuracy: 0.8547\n",
      "Epoch 9/30\n",
      "23/23 [==============================] - 0s 2ms/step - loss: 0.4128 - accuracy: 0.8244 - val_loss: 0.3466 - val_accuracy: 0.8603\n",
      "Epoch 10/30\n",
      "23/23 [==============================] - 0s 2ms/step - loss: 0.4120 - accuracy: 0.8258 - val_loss: 0.3460 - val_accuracy: 0.8547\n",
      "Epoch 11/30\n",
      "23/23 [==============================] - 0s 3ms/step - loss: 0.4120 - accuracy: 0.8287 - val_loss: 0.3452 - val_accuracy: 0.8547\n",
      "Epoch 12/30\n",
      "23/23 [==============================] - 0s 3ms/step - loss: 0.4113 - accuracy: 0.8272 - val_loss: 0.3443 - val_accuracy: 0.8547\n",
      "Epoch 13/30\n",
      "23/23 [==============================] - 0s 2ms/step - loss: 0.4116 - accuracy: 0.8230 - val_loss: 0.3462 - val_accuracy: 0.8547\n",
      "Epoch 14/30\n",
      "23/23 [==============================] - 0s 2ms/step - loss: 0.4115 - accuracy: 0.8230 - val_loss: 0.3438 - val_accuracy: 0.8547\n",
      "Epoch 15/30\n",
      "23/23 [==============================] - 0s 3ms/step - loss: 0.4109 - accuracy: 0.8258 - val_loss: 0.3459 - val_accuracy: 0.8603\n",
      "Epoch 16/30\n",
      "23/23 [==============================] - 0s 4ms/step - loss: 0.4100 - accuracy: 0.8216 - val_loss: 0.3448 - val_accuracy: 0.8603\n",
      "Epoch 17/30\n",
      "23/23 [==============================] - 0s 3ms/step - loss: 0.4111 - accuracy: 0.8287 - val_loss: 0.3442 - val_accuracy: 0.8603\n",
      "Epoch 18/30\n",
      "23/23 [==============================] - 0s 5ms/step - loss: 0.4093 - accuracy: 0.8272 - val_loss: 0.3437 - val_accuracy: 0.8603\n",
      "Epoch 19/30\n",
      "23/23 [==============================] - 0s 3ms/step - loss: 0.4093 - accuracy: 0.8272 - val_loss: 0.3431 - val_accuracy: 0.8603\n",
      "Epoch 20/30\n",
      "23/23 [==============================] - 0s 3ms/step - loss: 0.4096 - accuracy: 0.8287 - val_loss: 0.3452 - val_accuracy: 0.8603\n",
      "Epoch 21/30\n",
      "23/23 [==============================] - 0s 8ms/step - loss: 0.4099 - accuracy: 0.8244 - val_loss: 0.3420 - val_accuracy: 0.8603\n",
      "Epoch 22/30\n",
      "23/23 [==============================] - 0s 5ms/step - loss: 0.4083 - accuracy: 0.8258 - val_loss: 0.3438 - val_accuracy: 0.8659\n",
      "Epoch 23/30\n",
      "23/23 [==============================] - 0s 6ms/step - loss: 0.4093 - accuracy: 0.8216 - val_loss: 0.3444 - val_accuracy: 0.8603\n",
      "Epoch 24/30\n",
      "23/23 [==============================] - 0s 6ms/step - loss: 0.4100 - accuracy: 0.8230 - val_loss: 0.3424 - val_accuracy: 0.8603\n",
      "Epoch 25/30\n",
      "23/23 [==============================] - 0s 5ms/step - loss: 0.4082 - accuracy: 0.8244 - val_loss: 0.3466 - val_accuracy: 0.8659\n",
      "Epoch 26/30\n",
      "23/23 [==============================] - 0s 5ms/step - loss: 0.4075 - accuracy: 0.8244 - val_loss: 0.3432 - val_accuracy: 0.8603\n",
      "Epoch 27/30\n",
      "23/23 [==============================] - 0s 3ms/step - loss: 0.4077 - accuracy: 0.8287 - val_loss: 0.3443 - val_accuracy: 0.8603\n",
      "Epoch 28/30\n",
      "23/23 [==============================] - 0s 4ms/step - loss: 0.4072 - accuracy: 0.8287 - val_loss: 0.3436 - val_accuracy: 0.8659\n",
      "Epoch 29/30\n",
      "23/23 [==============================] - 0s 5ms/step - loss: 0.4067 - accuracy: 0.8244 - val_loss: 0.3435 - val_accuracy: 0.8659\n",
      "Epoch 30/30\n",
      "23/23 [==============================] - 0s 3ms/step - loss: 0.4084 - accuracy: 0.8301 - val_loss: 0.3443 - val_accuracy: 0.8659\n"
     ]
    }
   ],
   "source": [
    "history = model.fit(X_train_scaled, y, validation_split=0.2, batch_size=32, epochs =30)"
   ]
  },
  {
   "cell_type": "code",
   "execution_count": 10,
   "id": "d3f18cee",
   "metadata": {},
   "outputs": [
    {
     "data": {
      "image/png": "[encoded data removed]",
      "text/plain": [
       "<Figure size 432x288 with 1 Axes>"
      ]
     },
     "metadata": {
      "needs_background": "light"
     },
     "output_type": "display_data"
    }
   ],
   "source": [
    "history_df = pd.DataFrame(history.history)\n",
    "history_df['loss'].plot();"
   ]
  },
  {
   "cell_type": "code",
   "execution_count": null,
   "id": "d1213621",
   "metadata": {},
   "outputs": [],
   "source": []
  }
 ],
 "metadata": {
  "kernelspec": {
   "display_name": "Python 3 (ipykernel)",
   "language": "python",
   "name": "python3"
  },
  "language_info": {
   "codemirror_mode": {
    "name": "ipython",
    "version": 3
   },
   "file_extension": ".py",
   "mimetype": "text/x-python",
   "name": "python",
   "nbconvert_exporter": "python",
   "pygments_lexer": "ipython3",
   "version": "3.9.6"
  }
 },
 "nbformat": 4,
 "nbformat_minor": 5
}
